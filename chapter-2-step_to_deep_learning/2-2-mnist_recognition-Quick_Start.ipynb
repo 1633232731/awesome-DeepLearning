{
 "cells": [
  {
   "cell_type": "markdown",
   "metadata": {
    "collapsed": false
   },
   "source": [
    "# 通过极简方案构建手写数字识别模型\n",
    "\n",
    "上一节介绍了创新性的“横纵式”教学法，有助于深度学习初学者快速掌握深度学习理论知识，并在过程中让读者获得到真实建模的实战体验。在“横纵式”教学法中，纵向概要介绍模型的基本代码结构和极简实现方案，如 **图1** 所示。本节将使用这种极简实现方案快速完成手写数字识别的建模。\n",
    "\n",
    "<center><img src=\"https://ai-studio-static-online.cdn.bcebos.com/45b5af558f704356a1e1ba763ae35955ffa5138b6f5e400e98e710caef7b1a71\" width=\"800\" hegiht=\"\" ></center>\n",
    "<center><br>图1：“横纵式”教学法—纵向极简实现方案</br></center>\n",
    "<br></br>\n",
    "\n",
    "### 前提条件\n",
    "\n",
    "在数据处理前，首先要加载飞桨平台与“手写数字识别”模型相关类库，代码如下。"
   ]
  },
  {
   "cell_type": "code",
   "execution_count": 1,
   "metadata": {
    "collapsed": false
   },
   "outputs": [],
   "source": [
    "#加载飞桨和相关类库\n",
    "import paddle\n",
    "import paddle.fluid as fluid\n",
    "from paddle.fluid.dygraph.nn import Linear\n",
    "import numpy as np\n",
    "import os\n",
    "from PIL import Image"
   ]
  },
  {
   "cell_type": "markdown",
   "metadata": {
    "collapsed": false
   },
   "source": [
    "# 数据处理\n",
    "\n",
    "飞桨提供了多个封装好的数据集API，涵盖计算机视觉、自然语言处理、推荐系统等多个领域，帮助读者快速完成机器学习任务。如在手写数字识别模型中，通过[paddle.dataset.mnist.train()](https://www.paddlepaddle.org.cn/documentation/docs/zh/api_cn/data/dataset_cn.html)可以直接获取处理好的MNIST训练集、验证集和测试集，飞桨API支持如下常见的学术数据集：\n",
    "\n",
    "* mnist\n",
    "* cifar\n",
    "* Conll05\n",
    "* imdb\n",
    "* imikolov\n",
    "* movielens\n",
    "* sentiment\n",
    "* uci_housing\n",
    "* wmt14\n",
    "* wmt16\n",
    "\n",
    "通过paddle.dataset.mnist.train()函数设置数据读取器，batch_size设置为8，即一个批次有8张图片和8个标签，代码如下所示。"
   ]
  },
  {
   "cell_type": "code",
   "execution_count": 2,
   "metadata": {
    "collapsed": false
   },
   "outputs": [],
   "source": [
    "# 如果～/.cache/paddle/dataset/mnist/目录下没有MNIST数据，API会自动将MINST数据下载到该文件夹下\n",
    "# 设置数据读取器，读取MNIST数据训练集\n",
    "trainset = paddle.dataset.mnist.train()\n",
    "# 包装数据读取器，每次读取的数据数量设置为batch_size=8\n",
    "train_reader = paddle.batch(trainset, batch_size=8)"
   ]
  },
  {
   "cell_type": "markdown",
   "metadata": {
    "collapsed": false
   },
   "source": [
    "paddle.batch函数将MNIST数据集拆分成多个批次，通过如下代码读取第一个批次的数据内容，观察数据打印结果。\n"
   ]
  },
  {
   "cell_type": "code",
   "execution_count": 3,
   "metadata": {
    "collapsed": false
   },
   "outputs": [
    {
     "name": "stdout",
     "output_type": "stream",
     "text": [
      "图像数据形状和对应数据为: (8, 784) [-1.         -1.         -1.         -1.         -1.         -1.\n",
      " -1.         -1.         -1.         -1.         -1.         -1.\n",
      " -1.         -1.         -1.         -1.         -1.         -1.\n",
      " -1.         -1.         -1.         -1.         -1.         -1.\n",
      " -1.         -1.         -1.         -1.         -1.         -1.\n",
      " -1.         -1.         -1.         -1.         -1.         -1.\n",
      " -1.         -1.         -1.         -1.         -1.         -1.\n",
      " -1.         -1.         -1.         -1.         -1.         -1.\n",
      " -1.         -1.         -1.         -1.         -1.         -1.\n",
      " -1.         -1.         -1.         -1.         -1.         -1.\n",
      " -1.         -1.         -1.         -1.         -1.         -1.\n",
      " -1.         -1.         -1.         -1.         -1.         -1.\n",
      " -1.         -1.         -1.         -1.         -1.         -1.\n",
      " -1.         -1.         -1.         -1.         -1.         -1.\n",
      " -1.         -1.         -1.         -1.         -1.         -1.\n",
      " -1.         -1.         -1.         -1.         -1.         -1.\n",
      " -1.         -1.         -1.         -1.         -1.         -1.\n",
      " -1.         -1.         -1.         -1.         -1.         -1.\n",
      " -1.         -1.         -1.         -1.         -1.         -1.\n",
      " -1.         -1.         -1.         -1.         -1.         -1.\n",
      " -1.         -1.         -1.         -1.         -1.         -1.\n",
      " -1.         -1.         -1.         -1.         -1.         -1.\n",
      " -1.         -1.         -1.         -1.         -1.         -1.\n",
      " -1.         -1.         -1.         -1.         -1.         -1.\n",
      " -1.         -1.         -1.         -1.         -1.         -1.\n",
      " -1.         -1.         -0.9764706  -0.85882354 -0.85882354 -0.85882354\n",
      " -0.01176471  0.06666672  0.37254906 -0.79607844  0.30196083  1.\n",
      "  0.9372549  -0.00392157 -1.         -1.         -1.         -1.\n",
      " -1.         -1.         -1.         -1.         -1.         -1.\n",
      " -1.         -1.         -0.7647059  -0.7176471  -0.26274508  0.20784318\n",
      "  0.33333337  0.9843137   0.9843137   0.9843137   0.9843137   0.9843137\n",
      "  0.7647059   0.34901965  0.9843137   0.8980392   0.5294118  -0.4980392\n",
      " -1.         -1.         -1.         -1.         -1.         -1.\n",
      " -1.         -1.         -1.         -1.         -1.         -0.6156863\n",
      "  0.8666667   0.9843137   0.9843137   0.9843137   0.9843137   0.9843137\n",
      "  0.9843137   0.9843137   0.9843137   0.96862745 -0.27058822 -0.35686272\n",
      " -0.35686272 -0.56078434 -0.69411767 -1.         -1.         -1.\n",
      " -1.         -1.         -1.         -1.         -1.         -1.\n",
      " -1.         -1.         -1.         -0.85882354  0.7176471   0.9843137\n",
      "  0.9843137   0.9843137   0.9843137   0.9843137   0.5529412   0.427451\n",
      "  0.9372549   0.8901961  -1.         -1.         -1.         -1.\n",
      " -1.         -1.         -1.         -1.         -1.         -1.\n",
      " -1.         -1.         -1.         -1.         -1.         -1.\n",
      " -1.         -1.         -0.372549    0.22352946 -0.1607843   0.9843137\n",
      "  0.9843137   0.60784316 -0.9137255  -1.         -0.6627451   0.20784318\n",
      " -1.         -1.         -1.         -1.         -1.         -1.\n",
      " -1.         -1.         -1.         -1.         -1.         -1.\n",
      " -1.         -1.         -1.         -1.         -1.         -1.\n",
      " -1.         -0.8901961  -0.99215686  0.20784318  0.9843137  -0.29411763\n",
      " -1.         -1.         -1.         -1.         -1.         -1.\n",
      " -1.         -1.         -1.         -1.         -1.         -1.\n",
      " -1.         -1.         -1.         -1.         -1.         -1.\n",
      " -1.         -1.         -1.         -1.         -1.         -1.\n",
      " -1.          0.09019613  0.9843137   0.4901961  -0.9843137  -1.\n",
      " -1.         -1.         -1.         -1.         -1.         -1.\n",
      " -1.         -1.         -1.         -1.         -1.         -1.\n",
      " -1.         -1.         -1.         -1.         -1.         -1.\n",
      " -1.         -1.         -1.         -1.         -1.         -0.9137255\n",
      "  0.4901961   0.9843137  -0.45098037 -1.         -1.         -1.\n",
      " -1.         -1.         -1.         -1.         -1.         -1.\n",
      " -1.         -1.         -1.         -1.         -1.         -1.\n",
      " -1.         -1.         -1.         -1.         -1.         -1.\n",
      " -1.         -1.         -1.         -1.         -0.7254902   0.8901961\n",
      "  0.7647059   0.254902   -0.15294117 -0.99215686 -1.         -1.\n",
      " -1.         -1.         -1.         -1.         -1.         -1.\n",
      " -1.         -1.         -1.         -1.         -1.         -1.\n",
      " -1.         -1.         -1.         -1.         -1.         -1.\n",
      " -1.         -1.         -1.         -0.36470586  0.88235295  0.9843137\n",
      "  0.9843137  -0.06666666 -0.8039216  -1.         -1.         -1.\n",
      " -1.         -1.         -1.         -1.         -1.         -1.\n",
      " -1.         -1.         -1.         -1.         -1.         -1.\n",
      " -1.         -1.         -1.         -1.         -1.         -1.\n",
      " -1.         -1.         -0.64705884  0.45882356  0.9843137   0.9843137\n",
      "  0.17647064 -0.7882353  -1.         -1.         -1.         -1.\n",
      " -1.         -1.         -1.         -1.         -1.         -1.\n",
      " -1.         -1.         -1.         -1.         -1.         -1.\n",
      " -1.         -1.         -1.         -1.         -1.         -1.\n",
      " -1.         -0.8745098  -0.27058822  0.9764706   0.9843137   0.4666667\n",
      " -1.         -1.         -1.         -1.         -1.         -1.\n",
      " -1.         -1.         -1.         -1.         -1.         -1.\n",
      " -1.         -1.         -1.         -1.         -1.         -1.\n",
      " -1.         -1.         -1.         -1.         -1.         -1.\n",
      " -1.          0.9529412   0.9843137   0.9529412  -0.4980392  -1.\n",
      " -1.         -1.         -1.         -1.         -1.         -1.\n",
      " -1.         -1.         -1.         -1.         -1.         -1.\n",
      " -1.         -1.         -1.         -1.         -1.         -1.\n",
      " -1.         -1.         -0.6392157   0.0196079   0.43529415  0.9843137\n",
      "  0.9843137   0.62352943 -0.9843137  -1.         -1.         -1.\n",
      " -1.         -1.         -1.         -1.         -1.         -1.\n",
      " -1.         -1.         -1.         -1.         -1.         -1.\n",
      " -1.         -1.         -1.         -1.         -0.69411767  0.16078436\n",
      "  0.79607844  0.9843137   0.9843137   0.9843137   0.9607843   0.427451\n",
      " -1.         -1.         -1.         -1.         -1.         -1.\n",
      " -1.         -1.         -1.         -1.         -1.         -1.\n",
      " -1.         -1.         -1.         -1.         -1.         -1.\n",
      " -0.8117647  -0.10588235  0.73333335  0.9843137   0.9843137   0.9843137\n",
      "  0.9843137   0.5764706  -0.38823527 -1.         -1.         -1.\n",
      " -1.         -1.         -1.         -1.         -1.         -1.\n",
      " -1.         -1.         -1.         -1.         -1.         -1.\n",
      " -1.         -1.         -0.81960785 -0.4823529   0.67058825  0.9843137\n",
      "  0.9843137   0.9843137   0.9843137   0.5529412  -0.36470586 -0.9843137\n",
      " -1.         -1.         -1.         -1.         -1.         -1.\n",
      " -1.         -1.         -1.         -1.         -1.         -1.\n",
      " -1.         -1.         -1.         -1.         -0.85882354  0.3411765\n",
      "  0.7176471   0.9843137   0.9843137   0.9843137   0.9843137   0.5294118\n",
      " -0.372549   -0.92941177 -1.         -1.         -1.         -1.\n",
      " -1.         -1.         -1.         -1.         -1.         -1.\n",
      " -1.         -1.         -1.         -1.         -1.         -1.\n",
      " -0.5686275   0.34901965  0.77254903  0.9843137   0.9843137   0.9843137\n",
      "  0.9843137   0.9137255   0.04313731 -0.9137255  -1.         -1.\n",
      " -1.         -1.         -1.         -1.         -1.         -1.\n",
      " -1.         -1.         -1.         -1.         -1.         -1.\n",
      " -1.         -1.         -1.         -1.          0.06666672  0.9843137\n",
      "  0.9843137   0.9843137   0.6627451   0.05882359  0.03529418 -0.8745098\n",
      " -1.         -1.         -1.         -1.         -1.         -1.\n",
      " -1.         -1.         -1.         -1.         -1.         -1.\n",
      " -1.         -1.         -1.         -1.         -1.         -1.\n",
      " -1.         -1.         -1.         -1.         -1.         -1.\n",
      " -1.         -1.         -1.         -1.         -1.         -1.\n",
      " -1.         -1.         -1.         -1.         -1.         -1.\n",
      " -1.         -1.         -1.         -1.         -1.         -1.\n",
      " -1.         -1.         -1.         -1.         -1.         -1.\n",
      " -1.         -1.         -1.         -1.         -1.         -1.\n",
      " -1.         -1.         -1.         -1.         -1.         -1.\n",
      " -1.         -1.         -1.         -1.         -1.         -1.\n",
      " -1.         -1.         -1.         -1.         -1.         -1.\n",
      " -1.         -1.         -1.         -1.         -1.         -1.\n",
      " -1.         -1.         -1.         -1.         -1.         -1.\n",
      " -1.         -1.         -1.         -1.         -1.         -1.\n",
      " -1.         -1.         -1.         -1.         -1.         -1.\n",
      " -1.         -1.         -1.         -1.        ]\n",
      "图像标签形状和对应数据为: (8,) 5.0\n",
      "\n",
      "打印第一个batch的第一个图像，对应标签数字为5.0\n"
     ]
    },
    {
     "data": {
      "text/plain": [
       "<Figure size 640x480 with 1 Axes>"
      ]
     },
     "metadata": {},
     "output_type": "display_data"
    }
   ],
   "source": [
    "# 以迭代的形式读取数据\n",
    "for batch_id, data in enumerate(train_reader()):\n",
    "    # 获得图像数据，并转为float32类型的数组\n",
    "    img_data = np.array([x[0] for x in data]).astype('float32')\n",
    "    # 获得图像标签数据，并转为float32类型的数组\n",
    "    label_data = np.array([x[1] for x in data]).astype('float32')\n",
    "    # 打印数据形状\n",
    "    print(\"图像数据形状和对应数据为:\", img_data.shape, img_data[0])\n",
    "    print(\"图像标签形状和对应数据为:\", label_data.shape, label_data[0])\n",
    "    break\n",
    "\n",
    "print(\"\\n打印第一个batch的第一个图像，对应标签数字为{}\".format(label_data[0]))\n",
    "# 显示第一batch的第一个图像\n",
    "import matplotlib.pyplot as plt\n",
    "img = np.array(img_data[0]+1)*127.5\n",
    "img = np.reshape(img, [28, 28]).astype(np.uint8)\n",
    "\n",
    "plt.figure(\"Image\") # 图像窗口名称\n",
    "plt.imshow(img)\n",
    "plt.axis('on') # 关掉坐标轴为 off\n",
    "plt.title('image') # 图像题目\n",
    "plt.show()"
   ]
  },
  {
   "cell_type": "markdown",
   "metadata": {
    "collapsed": false
   },
   "source": [
    "从打印结果看，从数据加载器train_loader()中读取一次数据，可以得到形状为（8, 784）的图像数据和形状为（8,）的标签数据。其中，形状中的数字8与设置的batch_size大小对应，784为MINIST数据集中每个图像的像素大小(28\\*28)。\n",
    "\n",
    "此外，从打印的图像数据来看，图像数据的范围是[-1, 1]，表明这是已经完成图像归一化后的图像数据，并且空白背景部分的值是-1。将图像数据反归一化，并使用matplotlib工具包将其显示出来，如 **图2** 所示。图片显示的数字是5，和对应标签数字一致。\n",
    "\n",
    "<center><img src=\"https://ai-studio-static-online.cdn.bcebos.com/89634a5fc22c46ebb522a924b56b9344e6169a632b9f48898d06e0f799673302\" width=\"300\" hegiht=\"\" ></center>\n",
    "<center><br>图2：matplotlib打印结果示意图</br></center>\n",
    "<br></br>\n",
    "\n",
    "------\n",
    "**说明：**\n",
    "\n",
    "飞桨将维度是28\\*28的手写数字数据图像转成向量形式存储，因此使用飞桨数据读取到的手写数字图像是长度为784（28\\*28）的向量。\n",
    "\n",
    "------"
   ]
  },
  {
   "cell_type": "markdown",
   "metadata": {
    "collapsed": false
   },
   "source": [
    "## 飞桨API的使用方法\n",
    "\n",
    "熟练掌握飞桨API的使用方法，是使用飞桨构建各类深度学习任务的基础，也是开发者必须掌握的技能，下面介绍飞桨API获取方式和使用方法。\n",
    "\n",
    "**1. 飞桨API文档获取方式**\n",
    "\n",
    "登录“[飞桨官网->文档->API Reference](https://www.paddlepaddle.org.cn/documentation/docs/zh/api_cn/index_cn.html)”，获取飞桨API文档，如 **图3** 所示。\n",
    "\n",
    "<center><img src=\"https://ai-studio-static-online.cdn.bcebos.com/8e8d0028e7964b6bbd8fccc2639bf38f86270913f4594bf885eeaf839d6e8a43\" width=\"700\" hegiht=\"\" ></center>\n",
    "<center><br>图3：飞桨API文档</br></center>\n",
    "<br></br>\n",
    "\n",
    "**2. 通过搜索和分类浏览两种方式查阅API文档**\n",
    "\n",
    "如果用户知道需要查阅的API名称，可通过页面右上角的**搜索框**，快速获取API。\n",
    "\n",
    "如果想全面了解飞桨API文档内容，也可以在**API Reference**首页，单击“**API功能分类**”，通过概念分类获取不同职能的API，如 **图4** 所示\n",
    "\n",
    "<center><img src=\"https://ai-studio-static-online.cdn.bcebos.com/f6833d0191834057a37c44427ddb0c0abd3cb97a5b9a4d2289129b4fc9231140\" width=\"700\" hegiht=\"\" ></center>\n",
    "<center><br>图4：飞桨API功能分类页面</br></center>\n",
    "<br></br>\n",
    "\n",
    "在API功能分类的页面，用户可以根据神经网络建模的逻辑概念来浏览相应部分的API，如优化器、网络层、评价指标、模型保存和加载等。\n",
    "\n",
    "**3. API文档使用方法**\n",
    "\n",
    "飞桨每个API的文档结构一致，包含接口形式、功能说明和计算公式、参数和返回值、代码示例四个部分。 以abs函数为例，API文档结构如 **图5** 所示。通过飞桨API文档，读者不仅可以详细查看函数功能，还可以通过可运行的代码示例来实践API的使用。\n",
    "\n",
    "<center><img src=\"https://ai-studio-static-online.cdn.bcebos.com/225d39636f384b519e7c926e5872dafaffe4a397af5a4b50aaeb1c12518e8a8b\" width=\"600\" hegiht=\"\" ></center>\n",
    "<center><br>图5：abs函数的API文档</br></center>\n",
    "<br></br>"
   ]
  },
  {
   "cell_type": "markdown",
   "metadata": {
    "collapsed": false
   },
   "source": [
    "# 模型设计\n",
    "\n",
    "在房价预测深度学习任务中，我们使用了单层且没有非线性变换的模型，取得了理想的预测效果。在手写数字识别中，我们依然使用这个模型预测输入的图形数字值。其中，模型的输入为784维（28\\*28）数据，输出为1维数据，如 **图6** 所示。\n",
    "\n",
    "<center><img src=\"https://ai-studio-static-online.cdn.bcebos.com/65c0a269e7ab49ed995bc603c9b3e5aec31f33f7bf4544cea611b4c09ee861db\" width=\"400\" hegiht=\"\" ></center>\n",
    "<center><br>图6：手写数字识别网络模型</br></center>\n",
    "<br></br>\n",
    "\n",
    "输入像素的位置排布信息对理解图像内容非常重要（如将原始尺寸为28\\*28图像的像素按照7\\*112的尺寸排布，那么其中的数字将不可识别），因此网络的输入设计为28\\*28的尺寸，而不是1\\*784，以便于模型能够正确处理像素之间的空间信息。\n",
    "\n",
    "------\n",
    "**说明：**\n",
    "\n",
    "事实上，采用只有一层的简单网络（对输入求加权和）时并没有处理位置关系信息，因此可以猜测出此模型的预测效果可能有限。在后续优化环节介绍的卷积神经网络则更好的考虑了这种位置关系信息，模型的预测效果也会有显著提升。\n",
    "\n",
    "------\n",
    "\n",
    "下面以类的方式组建手写数字识别的网络，代码如下所示。"
   ]
  },
  {
   "cell_type": "code",
   "execution_count": 4,
   "metadata": {
    "collapsed": false
   },
   "outputs": [],
   "source": [
    "# 定义mnist数据识别网络结构，同房价预测网络\n",
    "class MNIST(fluid.dygraph.Layer):\n",
    "    def __init__(self, name_scope):\n",
    "        super(MNIST, self).__init__(name_scope)\n",
    "        name_scope = self.full_name()\n",
    "        # 定义一层全连接层，输出维度是1，激活函数为None，即不使用激活函数\n",
    "        self.fc = Linear(input_dim=784, output_dim=1, act=None)\n",
    "        \n",
    "    # 定义网络结构的前向计算过程\n",
    "    def forward(self, inputs):\n",
    "        outputs = self.fc(inputs)\n",
    "        return outputs"
   ]
  },
  {
   "cell_type": "markdown",
   "metadata": {
    "collapsed": false
   },
   "source": [
    "# 训练配置\n",
    "\n",
    "训练配置需要先生成模型实例（设为“训练”状态），再设置优化算法和学习率（使用随机梯度下降SGD，学习率设置为0.01），代码如下所示。"
   ]
  },
  {
   "cell_type": "code",
   "execution_count": 5,
   "metadata": {
    "collapsed": false
   },
   "outputs": [],
   "source": [
    "# 定义飞桨动态图工作环境\n",
    "with fluid.dygraph.guard():\n",
    "    # 声明网络结构\n",
    "    model = MNIST(\"mnist\")\n",
    "    # 启动训练模式\n",
    "    model.train()\n",
    "    # 定义数据读取函数，数据读取batch_size设置为16\n",
    "    train_loader = paddle.batch(paddle.dataset.mnist.train(), batch_size=16)\n",
    "    # 定义优化器，使用随机梯度下降SGD优化器，学习率设置为0.001\n",
    "    optimizer = fluid.optimizer.SGDOptimizer(learning_rate=0.001, parameter_list=model.parameters())"
   ]
  },
  {
   "cell_type": "markdown",
   "metadata": {
    "collapsed": false
   },
   "source": [
    "# 训练过程\n",
    "\n",
    "训练过程采用二层循环嵌套方式，训练完成后需要保存模型参数，以便后续使用。\n",
    "\n",
    "- 内层循环：负责整个数据集的一次遍历，遍历数据集采用分批次（batch）方式。\n",
    "- 外层循环：定义遍历数据集的次数，本次训练中外层循环10次，通过参数EPOCH_NUM设置。"
   ]
  },
  {
   "cell_type": "code",
   "execution_count": 6,
   "metadata": {
    "collapsed": false
   },
   "outputs": [
    {
     "name": "stdout",
     "output_type": "stream",
     "text": [
      "epoch: 0, batch: 1000, loss is: [2.350808]\n",
      "epoch: 0, batch: 2000, loss is: [4.043457]\n",
      "epoch: 0, batch: 3000, loss is: [3.574181]\n",
      "epoch: 1, batch: 1000, loss is: [2.1534498]\n",
      "epoch: 1, batch: 2000, loss is: [3.880579]\n",
      "epoch: 1, batch: 3000, loss is: [3.4739895]\n",
      "epoch: 2, batch: 1000, loss is: [2.0475352]\n",
      "epoch: 2, batch: 2000, loss is: [3.7970018]\n",
      "epoch: 2, batch: 3000, loss is: [3.393975]\n",
      "epoch: 3, batch: 1000, loss is: [1.9989988]\n",
      "epoch: 3, batch: 2000, loss is: [3.759528]\n",
      "epoch: 3, batch: 3000, loss is: [3.3262048]\n",
      "epoch: 4, batch: 1000, loss is: [1.974704]\n",
      "epoch: 4, batch: 2000, loss is: [3.7452822]\n",
      "epoch: 4, batch: 3000, loss is: [3.2678552]\n",
      "epoch: 5, batch: 1000, loss is: [1.9622408]\n",
      "epoch: 5, batch: 2000, loss is: [3.7423959]\n",
      "epoch: 5, batch: 3000, loss is: [3.2176645]\n",
      "epoch: 6, batch: 1000, loss is: [1.9563268]\n",
      "epoch: 6, batch: 2000, loss is: [3.7449832]\n",
      "epoch: 6, batch: 3000, loss is: [3.1746004]\n",
      "epoch: 7, batch: 1000, loss is: [1.9543065]\n",
      "epoch: 7, batch: 2000, loss is: [3.750152]\n",
      "epoch: 7, batch: 3000, loss is: [3.137694]\n",
      "epoch: 8, batch: 1000, loss is: [1.9546814]\n",
      "epoch: 8, batch: 2000, loss is: [3.756465]\n",
      "epoch: 8, batch: 3000, loss is: [3.1060455]\n",
      "epoch: 9, batch: 1000, loss is: [1.9565396]\n",
      "epoch: 9, batch: 2000, loss is: [3.7631865]\n",
      "epoch: 9, batch: 3000, loss is: [3.078862]\n"
     ]
    }
   ],
   "source": [
    "# 通过with语句创建一个dygraph运行的context，\n",
    "# 动态图下的一些操作需要在guard下进行\n",
    "with fluid.dygraph.guard():\n",
    "    model = MNIST(\"mnist\")\n",
    "    model.train()\n",
    "    train_loader = paddle.batch(paddle.dataset.mnist.train(), batch_size=16)\n",
    "    optimizer = fluid.optimizer.SGDOptimizer(learning_rate=0.001, parameter_list=model.parameters())\n",
    "    EPOCH_NUM = 10\n",
    "    for epoch_id in range(EPOCH_NUM):\n",
    "        for batch_id, data in enumerate(train_loader()):\n",
    "            #准备数据，格式需要转换成符合框架要求的\n",
    "            image_data = np.array([x[0] for x in data]).astype('float32')\n",
    "            label_data = np.array([x[1] for x in data]).astype('float32').reshape(-1, 1)\n",
    "            # 将数据转为飞桨动态图格式\n",
    "            image = fluid.dygraph.to_variable(image_data)\n",
    "            label = fluid.dygraph.to_variable(label_data)\n",
    "            \n",
    "            #前向计算的过程\n",
    "            predict = model(image)\n",
    "            \n",
    "            #计算损失，取一个批次样本损失的平均值\n",
    "            loss = fluid.layers.square_error_cost(predict, label)\n",
    "            avg_loss = fluid.layers.mean(loss)\n",
    "            \n",
    "            #每训练了1000批次的数据，打印下当前Loss的情况\n",
    "            if batch_id !=0 and batch_id  % 1000 == 0:\n",
    "                print(\"epoch: {}, batch: {}, loss is: {}\".format(epoch_id, batch_id, avg_loss.numpy()))\n",
    "            \n",
    "            #后向传播，更新参数的过程\n",
    "            avg_loss.backward()\n",
    "            optimizer.minimize(avg_loss)\n",
    "            model.clear_gradients()\n",
    "\n",
    "    # 保存模型\n",
    "    fluid.save_dygraph(model.state_dict(), 'mnist')"
   ]
  },
  {
   "cell_type": "markdown",
   "metadata": {
    "collapsed": false
   },
   "source": [
    "通过观察上述代码可以发现，手写数字识别的代码几乎与房价预测任务一致，如果不是下述读取数据的两行代码有所差异，我们会误认为这是房价预测的模型。\n",
    "\n",
    "```\n",
    "   #准备数据，格式需要转换成符合框架要求的\n",
    "   image_data = np.array([x[0] for x in data]).astype('float32')\n",
    "   label_data = np.array([x[1] for x in data]).astype('float32').reshape(-1, 1)\n",
    "```\n",
    "\n",
    "\n",
    "另外，从训练过程中损失所发生的变化可以发现，虽然损失整体上在降低，但到训练的最后一轮，损失函数值依然较高。可以猜测手写数字识别完全复用房价预测的代码，训练效果并不好。接下来我们通过模型测试，获取模型训练的真实效果。\n",
    "\n",
    "# 模型测试\n",
    "\n",
    "模型测试的主要目的是验证训练好的模型是否能正确识别出数字，包括如下四步：\n",
    "\n",
    "* 声明实例\n",
    "* 加载模型：加载训练过程中保存的模型参数，\n",
    "* 灌入数据：将测试样本传入模型，模型的状态设置为校验状态（eval），显式告诉框架我们接下来只会使用前向计算的流程，不会计算梯度和梯度反向传播。\n",
    "* 获取预测结果，取整后作为预测标签输出。\n",
    "\n",
    "在模型测试之前，需要先从'./demo/example_0.jpg'文件中读取样例图片，并进行归一化处理。"
   ]
  },
  {
   "cell_type": "code",
   "execution_count": 7,
   "metadata": {
    "collapsed": false
   },
   "outputs": [
    {
     "data": {
      "text/plain": [
       "<matplotlib.image.AxesImage at 0x7f0778df3790>"
      ]
     },
     "execution_count": 7,
     "metadata": {},
     "output_type": "execute_result"
    },
    {
     "data": {
      "image/png": "[encoded data removed]",
      "text/plain": [
       "<Figure size 432x288 with 1 Axes>"
      ]
     },
     "metadata": {},
     "output_type": "display_data"
    }
   ],
   "source": [
    "# 导入图像读取第三方库\n",
    "import matplotlib.image as mpimg\n",
    "import matplotlib.pyplot as plt\n",
    "# 读取图像\n",
    "example = mpimg.imread('./work/example_0.png')\n",
    "# 显示图像\n",
    "plt.imshow(example)"
   ]
  },
  {
   "cell_type": "code",
   "execution_count": 8,
   "metadata": {
    "collapsed": false
   },
   "outputs": [
    {
     "name": "stdout",
     "output_type": "stream",
     "text": [
      "[[255 255 255 ... 255 255 255]\n",
      " [255 255 255 ... 255 255 255]\n",
      " [255 255 255 ... 255 255 255]\n",
      " ...\n",
      " [255 255 255 ... 255 255 255]\n",
      " [255 255 255 ... 255 255 255]\n",
      " [255 255 255 ... 255 255 255]]\n",
      "本次预测的数字是 [[4]]\n"
     ]
    }
   ],
   "source": [
    "# 读取一张本地的样例图片，转变成模型输入的格式\n",
    "def load_image(img_path):\n",
    "    # 从img_path中读取图像，并转为灰度图\n",
    "    im = Image.open(img_path).convert('L')\n",
    "    print(np.array(im))\n",
    "    im = im.resize((28, 28), Image.ANTIALIAS)\n",
    "    im = np.array(im).reshape(1, -1).astype(np.float32)\n",
    "    # 图像归一化，保持和数据集的数据范围一致\n",
    "    im = 1 - im / 127.5\n",
    "    return im\n",
    "\n",
    "# 定义预测过程\n",
    "with fluid.dygraph.guard():\n",
    "    model = MNIST(\"mnist\")\n",
    "    params_file_path = 'mnist'\n",
    "    img_path = './work/example_0.png'\n",
    "# 加载模型参数\n",
    "    model_dict, _ = fluid.load_dygraph(\"mnist\")\n",
    "    model.load_dict(model_dict)\n",
    "# 灌入数据\n",
    "    model.eval()\n",
    "    tensor_img = load_image(img_path)\n",
    "    result = model(fluid.dygraph.to_variable(tensor_img))\n",
    "#  预测输出取整，即为预测的数字，打印结果\n",
    "    print(\"本次预测的数字是\", result.numpy().astype('int32'))"
   ]
  },
  {
   "cell_type": "markdown",
   "metadata": {
    "collapsed": false
   },
   "source": [
    "从打印结果来看，模型预测出的数字是与实际输出的图片的数字不一致。这里只是验证了一个样本的情况，如果我们尝试更多的样本，可发现许多数字图片识别结果是错误的。因此完全复用房价预测的实验并不适用于手写数字识别任务！\n",
    "\n",
    "接下来我们会对手写数字识别实验模型进行逐一改进，直到获得令人满意的结果。"
   ]
  },
  {
   "cell_type": "markdown",
   "metadata": {
    "collapsed": false
   },
   "source": [
    "## 作业 2-1：\n",
    "\n",
    "1. 使用飞桨API [paddle.dataset.mnist](https://www.paddlepaddle.org.cn/documentation/docs/zh/api_cn/data/dataset_cn.html)的test函数获得测试集数据，计算当前模型的准确率。\n",
    "\n",
    "2. 怎样进一步提高模型的准确率？可以再接下来内容开始前，写出你想到的优化思路。"
   ]
  }
 ],
 "metadata": {
  "kernelspec": {
   "display_name": "PaddlePaddle 1.7.0 (Python 3.5)",
   "language": "python",
   "name": "py35-paddle1.2.0"
  },
  "language_info": {
   "codemirror_mode": {
    "name": "ipython",
    "version": 3
   },
   "file_extension": ".py",
   "mimetype": "text/x-python",
   "name": "python",
   "nbconvert_exporter": "python",
   "pygments_lexer": "ipython3",
   "version": "3.7.4"
  }
 },
 "nbformat": 4,
 "nbformat_minor": 1
}
