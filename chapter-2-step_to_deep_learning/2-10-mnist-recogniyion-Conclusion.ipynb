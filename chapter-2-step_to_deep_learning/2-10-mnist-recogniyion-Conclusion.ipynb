{
 "cells": [
  {
   "cell_type": "markdown",
   "metadata": {
    "collapsed": false
   },
   "source": [
    "截止目前，诸位读者已经掌握了使用飞桨完成深度学习建模的方法，并且可以编写相当强大的模型。如果将每个模型部分均展开，整个模型实现有几百行代码，可以灵活的实现各种建模过程中的需求。\n",
    "\n",
    "<center><img src=\"https://ai-studio-static-online.cdn.bcebos.com/02058c91f483428db5a5cc88e2818d46b4f4f8c27fb4469ea78a979a5a417553\"  width=\"800\" ></center>\n",
    "<center><br>“横纵式”教学法编写相当强大的模型<br/></center>\n",
    "<br><br/>\n",
    "  \n",
    "\n",
    "本章内容覆盖了使用飞桨建模各方面的基础知识，但仅以手写数字识别为案例，还难以覆盖各个领域的建模经验。从下一章开始，我们正式进入本教程的第二部分：以推荐、计算机视觉和自然语言处理等多个领域的任务为例，讲述各行各业最为常用的模型实现，并介绍更多使用飞桨的知识。"
   ]
  },
  {
   "cell_type": "markdown",
   "metadata": {
    "collapsed": false
   },
   "source": [
    "## 作业 2-5\n",
    "\n",
    "正确运行模型的极简版代码，分析训练过程中可能出现的问题或值得优化的地方，通过以下几点优化：\n",
    "\n",
    "（1）样本：数据增强的方法\n",
    "\n",
    "（2）假设：改进网络模型\n",
    "\n",
    "（3）损失：尝试各种Loss\n",
    "\n",
    "（4）优化：尝试各种优化算法和学习率\n",
    "\n",
    "目标：尽可能使模型在mnist测试集上的分类准确率最高。\n",
    "\n",
    "提交实现最高分类准确率的代码和模型，我们筛选最优结果前10名进行评奖。"
   ]
  }
 ],
 "metadata": {
  "kernelspec": {
   "display_name": "PaddlePaddle 1.6.0 (Python 3.5)",
   "language": "python",
   "name": "py35-paddle1.2.0"
  },
  "language_info": {
   "codemirror_mode": {
    "name": "ipython",
    "version": 3
   },
   "file_extension": ".py",
   "mimetype": "text/x-python",
   "name": "python",
   "nbconvert_exporter": "python",
   "pygments_lexer": "ipython3",
   "version": "3.7.4"
  }
 },
 "nbformat": 4,
 "nbformat_minor": 1
}
