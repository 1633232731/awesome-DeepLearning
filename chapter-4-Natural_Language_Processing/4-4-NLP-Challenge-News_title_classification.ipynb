{
 "cells": [
  {
   "cell_type": "code",
   "execution_count": null,
   "metadata": {
    "collapsed": false
   },
   "outputs": [],
   "source": [
    "# coding=utf-8\n",
    "import os\n",
    "from multiprocessing import cpu_count\n",
    "import numpy as np\n",
    "import paddle\n",
    "import paddle.fluid as fluid\n",
    "#import paddlehub as hub"
   ]
  },
  {
   "cell_type": "code",
   "execution_count": null,
   "metadata": {
    "collapsed": false
   },
   "outputs": [],
   "source": [
    "class classify():\n",
    "    data_root_path = \"\"\n",
    "    dict_path = \"data/data9658/dict.txt\"\n",
    "    test_data_path = \"data/data9658/Test_IDs.txt\"\n",
    "    model_save_dir = \"work/classify_nn/\"\n",
    "    save_path = 'work/result.txt'\n",
    "    \n",
    "    def train(self):\n",
    "        #\n",
    "        #\n",
    "        #\n",
    "        #\n",
    "        print('训练模型保存完成！')\n",
    "        self.test(self)\n",
    "    \n",
    "        # 获取数据\n",
    "    def get_data(self,sentence):\n",
    "        # 读取数据字典\n",
    "        with open(self.dict_path, 'r', encoding='utf-8') as f_data:\n",
    "            dict_txt = eval(f_data.readlines()[0])\n",
    "        dict_txt = dict(dict_txt)\n",
    "        # 把字符串数据转换成列表数据\n",
    "        keys = dict_txt.keys()\n",
    "        data = []\n",
    "        for s in sentence:\n",
    "            # 判断是否存在未知字符\n",
    "            if not s in keys:\n",
    "                s = '<unk>'\n",
    "            data.append(int(dict_txt[s]))\n",
    "        return data\n",
    "\n",
    "    def test(self):\n",
    "        data = []\n",
    "        # 获取预测数据\n",
    "        with open(self.test_data_path, 'r', encoding='utf-8') as test_data:\n",
    "            lines = test_data.readlines()\n",
    "        for line in lines:\n",
    "            tmp_sents = []\n",
    "            for word in line.strip().split(','):\n",
    "                tmp_sents.append(int(word))\n",
    "            data.append(tmp_sents)\n",
    "        print ('数据加载完毕，数据长度：',len(data))\n",
    "        #a=self.get_data(self, 'w我是共产主义接班人！')\n",
    "        #data=[a]\n",
    "        def load_tensor(data):\n",
    "            # 获取每句话的单词数量\n",
    "            base_shape = [[len(c) for c in data]]\n",
    "            # 创建一个执行器，CPU训练速度比较慢\n",
    "            #place = fluid.CPUPlace()\n",
    "            place = fluid.CUDAPlace(0)\n",
    "            # 生成预测数据\n",
    "            print('loading tensor')\n",
    "            tensor_words = fluid.create_lod_tensor(data, base_shape, place)\n",
    "        \n",
    "            #infer_place = fluid.CPUPlace()\n",
    "            infer_place = fluid.CUDAPlace(0)\n",
    "            # 执行预测\n",
    "            infer_exe = fluid.Executor(infer_place)\n",
    "            # 进行参数初始化\n",
    "            infer_exe.run(fluid.default_startup_program())\n",
    "            print('feeder')\n",
    " \n",
    "            # 从模型中获取预测程序、输入数据名称列表、分类器\n",
    "            print('loading model')\n",
    "            [infer_program, feeded_var_names, target_var] = fluid.io.load_inference_model(dirname=self.model_save_dir, executor=infer_exe)\n",
    "            result=[]\n",
    "            result = infer_exe.run(program=infer_program,\n",
    "                                feed={feeded_var_names[0]: tensor_words},\n",
    "                                fetch_list=target_var)\n",
    "            names = [\"财经\", \"彩票\", \"房产\", \"股票\", \"家居\", \"教育\", \"科技\",\n",
    "                    \"社会\", \"时尚\", \"时政\", \"体育\", \"星座\", \"游戏\", \"娱乐\"]\n",
    "            # 输出结果\n",
    "            print('writting')\n",
    "            for i in range(len(data)):\n",
    "                lab = np.argsort(result)[0][i][-1]\n",
    "                #print('预测结果标签为：%d， 名称为：%s， 概率为：%f' % (lab, names[lab], result[0][i][lab]))\n",
    "                with open(self.save_path, 'a', encoding='utf-8') as ans:\n",
    "                    #print (names[lab])\n",
    "                    ans.write( names[lab]+\"\\n\")\n",
    "            ans.close()\n",
    "        print('loading 1/4 data')\n",
    "        load_tensor(data[:int(len(data)/4)])\n",
    "        print('loading 2/4 data')\n",
    "        load_tensor(data[int(len(data)/4):2*int(len(data)/4)])\n",
    "        print('loading 3/4 data')\n",
    "        load_tensor(data[2*int(len(data)/4):3*int(len(data)/4)])\n",
    "        print('loading 4/4 data')\n",
    "        load_tensor(data[3*int(len(data)/4):])\n",
    "        print('测试输出已生成！')\n",
    "        \n",
    "if __name__ == \"__main__\":\n",
    "    classify.train(classify)\n",
    "    #classify.test(classify)"
   ]
  },
  {
   "cell_type": "code",
   "execution_count": null,
   "metadata": {
    "collapsed": false
   },
   "outputs": [],
   "source": [
    "!rm -rf submit.sh\n",
    "!wget -O submit.sh http://ai-studio-static.bj.bcebos.com/script/submit.sh\n",
    "!sh submit.sh work/result.txt 密码"
   ]
  },
  {
   "cell_type": "markdown",
   "metadata": {
    "collapsed": false
   },
   "source": [
    "请点击[此处](https://ai.baidu.com/docs#/AIStudio_Project_Notebook/a38e5576)查看本环境基本用法.  <br>\n",
    "Please click [here ](https://ai.baidu.com/docs#/AIStudio_Project_Notebook/a38e5576) for more detailed instructions. "
   ]
  }
 ],
 "metadata": {
  "kernelspec": {
   "display_name": "PaddlePaddle 1.7.0 (Python 3.5)",
   "language": "python",
   "name": "py35-paddle1.2.0"
  },
  "language_info": {
   "codemirror_mode": {
    "name": "ipython",
    "version": 3
   },
   "file_extension": ".py",
   "mimetype": "text/x-python",
   "name": "python",
   "nbconvert_exporter": "python",
   "pygments_lexer": "ipython3",
   "version": "3.7.4"
  }
 },
 "nbformat": 4,
 "nbformat_minor": 1
}
